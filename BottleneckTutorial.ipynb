{
 "cells": [
  {
   "cell_type": "code",
   "execution_count": 1,
   "metadata": {},
   "outputs": [],
   "source": [
    "%matplotlib widget\n",
    "import matplotlib.pyplot as plt\n",
    "import numpy as np\n",
    "from numpy.random import default_rng\n",
    "\n",
    "import ripser\n",
    "import cechmate as cm\n",
    "import persim\n",
    "from persim import plot_diagrams\n",
    "\n",
    "import networkx as nx\n",
    "from networkx.algorithms import bipartite\n",
    "from matplotlib.widgets import Slider, RadioButtons"
   ]
  },
  {
   "cell_type": "code",
   "execution_count": 2,
   "metadata": {},
   "outputs": [
    {
     "data": {
      "text/plain": [
       "0.6369616873214543"
      ]
     },
     "execution_count": 2,
     "metadata": {},
     "output_type": "execute_result"
    }
   ],
   "source": [
    "rng = default_rng(0)\n",
    "rng.random()"
   ]
  },
  {
   "cell_type": "code",
   "execution_count": 3,
   "metadata": {},
   "outputs": [],
   "source": [
    "def randomPD(card):\n",
    "    pd = np.zeros((card,2))\n",
    "    pd[:,0]=rng.random(card)\n",
    "    pd[:,1]=pd[:,0] + rng.random(card)\n",
    "    return pd"
   ]
  },
  {
   "cell_type": "code",
   "execution_count": 4,
   "metadata": {},
   "outputs": [
    {
     "data": {
      "application/vnd.jupyter.widget-view+json": {
       "model_id": "86f474ca72eb4acf94631f5c06dc86c5",
       "version_major": 2,
       "version_minor": 0
      },
      "text/plain": [
       "Canvas(toolbar=Toolbar(toolitems=[('Home', 'Reset original view', 'home', 'home'), ('Back', 'Back to previous …"
      ]
     },
     "metadata": {},
     "output_type": "display_data"
    }
   ],
   "source": [
    "rng = default_rng(3)\n",
    "X0 = randomPD(4)\n",
    "Y0 = randomPD(5)\n",
    "\n",
    "f,ax = plt.subplots(1,1, figsize=(8,8))\n",
    "persim.plot_diagrams([X0,Y0],ax=ax, labels = ['$X_0$','$Y_0$'])\n",
    "plt.show()"
   ]
  },
  {
   "cell_type": "code",
   "execution_count": 5,
   "metadata": {},
   "outputs": [],
   "source": [
    "def DiagProj(x):\n",
    "    return[(x[0]+x[1])/2]*2"
   ]
  },
  {
   "cell_type": "code",
   "execution_count": 6,
   "metadata": {},
   "outputs": [
    {
     "data": {
      "application/vnd.jupyter.widget-view+json": {
       "model_id": "71fb41a8ef4344f7befe05e2a9d39edf",
       "version_major": 2,
       "version_minor": 0
      },
      "text/plain": [
       "Canvas(toolbar=Toolbar(toolitems=[('Home', 'Reset original view', 'home', 'home'), ('Back', 'Back to previous …"
      ]
     },
     "metadata": {},
     "output_type": "display_data"
    }
   ],
   "source": [
    "X0prime = np.array([DiagProj(y) for y in Y0])\n",
    "Y0prime = np.array([DiagProj(x) for x in X0])\n",
    "\n",
    "f,ax = plt.subplots(1,1, figsize=(8,8))\n",
    "persim.plot_diagrams([X0,Y0,X0prime,Y0prime],ax=ax, labels = ['$X_0$','$Y_0$', '$X_0`$','$Y_0`$'])\n",
    "plt.show()"
   ]
  },
  {
   "cell_type": "code",
   "execution_count": 40,
   "metadata": {},
   "outputs": [],
   "source": [
    "U = np.append(X0,X0prime, axis=0)\n",
    "V = np.append(Y0,Y0prime, axis=0)\n",
    "U = [tuple(u) for u in U]\n",
    "V = [tuple(v) for v in V]\n",
    "\n",
    "B = nx.Graph()\n",
    "B.add_nodes_from(U, bipartite=0)\n",
    "B.add_nodes_from(V, bipartite=1)\n",
    "\n",
    "for u in U:\n",
    "    for v in V:\n",
    "        if u in X0 and v in Y0:\n",
    "            B.add_edge(u,v, weight= max(np.abs(u[0]-v[0]), np.abs(u[1]-v[1])))\n",
    "        elif u in X0prime and v in Y0prime:\n",
    "            B.add_edge(u,v, weight=0)\n",
    "            \n",
    "for u in X0:\n",
    "    B.add_edge(tuple(u),tuple(DiagProj(u)), weight=(u[1]-u[0])/2)\n",
    "for v in Y0:\n",
    "    B.add_edge(tuple(v),tuple(DiagProj(v)), weight=(v[1]-v[0])/2)"
   ]
  },
  {
   "cell_type": "code",
   "execution_count": 43,
   "metadata": {},
   "outputs": [
    {
     "data": {
      "text/plain": [
       "({(0.08564916714362436, 0.17977780938402355),\n",
       "  (0.2368105065960997, 0.6699374468325735),\n",
       "  (0.4825909135674835, 0.4825909135674835),\n",
       "  (0.5821620360643678, 0.7419009507014463),\n",
       "  (0.6588407644957595, 0.6588407644957595),\n",
       "  (0.7549016239540904, 0.7549016239540904),\n",
       "  (0.8012744652063969, 1.280325763347231),\n",
       "  (0.8693618179137114, 0.8693618179137114),\n",
       "  (1.027976437128285, 1.027976437128285)},\n",
       " {(0.11367201992140341, 0.8515098072135636),\n",
       "  (0.13271348826382395, 0.13271348826382395),\n",
       "  (0.39122819049566204, 1.3474954453317607),\n",
       "  (0.4306280204141778, 1.079175227494003),\n",
       "  (0.4533739767143366, 0.4533739767143366),\n",
       "  (0.5167401826213637, 0.8009413463701551),\n",
       "  (0.662031493382907, 0.662031493382907),\n",
       "  (0.7345771514092145, 1.3213757228473553),\n",
       "  (1.040800114276814, 1.040800114276814)})"
      ]
     },
     "execution_count": 43,
     "metadata": {},
     "output_type": "execute_result"
    }
   ],
   "source": [
    "nx.bipartite.sets(B)\n",
    "#U[0][0][1]\n"
   ]
  },
  {
   "cell_type": "code",
   "execution_count": 44,
   "metadata": {},
   "outputs": [],
   "source": [
    "def plotBipartite(G, ax):\n",
    "    color_map = []\n",
    "    for node in G.nodes:\n",
    "        color_map.append(G.nodes[node]['bipartite'])\n",
    "    \n",
    "    pos = dict()\n",
    "    pos.update( (n, (1, i)) for i, n in enumerate(U) ) # put nodes from U at x=1\n",
    "    pos.update( (n, (2, i)) for i, n in enumerate(V) ) # put nodes from V at x=2\n",
    "    nx.draw(G, pos=pos, node_color=color_map, with_labels=False,ax=ax)\n",
    "\n",
    "    #labels = nx.get_edge_attributes(G,'weight')\n",
    "    #nx.draw_networkx_edge_labels(G,pos,edge_labels=labels)\n",
    "    "
   ]
  },
  {
   "cell_type": "code",
   "execution_count": 45,
   "metadata": {},
   "outputs": [
    {
     "data": {
      "application/vnd.jupyter.widget-view+json": {
       "model_id": "23dec0bd4f7f455ea12eba2d4d093d14",
       "version_major": 2,
       "version_minor": 0
      },
      "text/plain": [
       "Canvas(toolbar=Toolbar(toolitems=[('Home', 'Reset original view', 'home', 'home'), ('Back', 'Back to previous …"
      ]
     },
     "metadata": {},
     "output_type": "display_data"
    }
   ],
   "source": [
    "f,ax = plt.subplots(1,1,figsize=(8,8))\n",
    "plotBipartite(B, ax)\n",
    "plt.show()"
   ]
  },
  {
   "cell_type": "code",
   "execution_count": 46,
   "metadata": {},
   "outputs": [],
   "source": [
    "def getGeps(G, eps):\n",
    "    G_eps = nx.Graph(G)\n",
    "    #G_eps.add_nodes_from(G.nodes)\n",
    "    for edge in G.edges:\n",
    "        if G.edges[edge]['weight']>eps:\n",
    "            G_eps.remove_edge(edge[0],edge[1])\n",
    "            \n",
    "    return G_eps"
   ]
  },
  {
   "cell_type": "code",
   "execution_count": 47,
   "metadata": {},
   "outputs": [
    {
     "data": {
      "application/vnd.jupyter.widget-view+json": {
       "model_id": "d124879bd2e64fb1a61f0d1a16fe32f5",
       "version_major": 2,
       "version_minor": 0
      },
      "text/plain": [
       "Canvas(toolbar=Toolbar(toolitems=[('Home', 'Reset original view', 'home', 'home'), ('Back', 'Back to previous …"
      ]
     },
     "metadata": {},
     "output_type": "display_data"
    }
   ],
   "source": [
    "\n",
    "fig, ax = plt.subplots(1,1,figsize=(8,8))\n",
    "plt.subplots_adjust(left=0.25, bottom=0.25)\n",
    "axeps = plt.axes([0.25, 0.1, 0.65, 0.03])\n",
    "seps = Slider(axeps, 'eps', 0.0, 1.5, valinit=0, valstep=0.05)\n",
    "\n",
    "def updateGraph(val):\n",
    "    ax.clear()\n",
    "    G_eps=getGeps(B,val)\n",
    "    plotBipartite(G_eps, ax)\n",
    "    fig.canvas.draw_idle()\n",
    "    \n",
    "seps.on_changed(updateGraph)\n",
    "\n",
    "#G_eps = getGeps(B, 0.5)\n",
    "#plotBipartite(G_eps, ax)\n",
    "#G_eps.nodes[U[0]]\n",
    "plt.show()"
   ]
  },
  {
   "cell_type": "code",
   "execution_count": 48,
   "metadata": {},
   "outputs": [
    {
     "data": {
      "application/vnd.jupyter.widget-view+json": {
       "model_id": "58ec6834ec444b749d1ae551dcaf1b07",
       "version_major": 2,
       "version_minor": 0
      },
      "text/plain": [
       "Canvas(toolbar=Toolbar(toolitems=[('Home', 'Reset original view', 'home', 'home'), ('Back', 'Back to previous …"
      ]
     },
     "metadata": {},
     "output_type": "display_data"
    }
   ],
   "source": [
    "f, ax =plt.subplots()\n",
    "bn_matching, (matchidx, D) = persim.bottleneck(X0, Y0, matching=True) \n",
    "persim.wasserstein_matching(X0, Y0, matchidx, D, ax=ax)\n",
    "plt.show()\n"
   ]
  },
  {
   "cell_type": "code",
   "execution_count": 55,
   "metadata": {},
   "outputs": [
    {
     "data": {
      "application/vnd.jupyter.widget-view+json": {
       "model_id": "87089af972004c328b8c72cbda917f9b",
       "version_major": 2,
       "version_minor": 0
      },
      "text/plain": [
       "Canvas(toolbar=Toolbar(toolitems=[('Home', 'Reset original view', 'home', 'home'), ('Back', 'Back to previous …"
      ]
     },
     "metadata": {},
     "output_type": "display_data"
    }
   ],
   "source": [
    "f,ax = plt.subplots()\n",
    "plt.subplots_adjust(left=0.25, bottom=0.25)\n",
    "axeps = plt.axes([0.25, 0.1, 0.65, 0.03])\n",
    "seps = Slider(axeps, 'eps', 0.0, 1.5, valinit=0, valstep=0.05)\n",
    "\n",
    "def update(val):\n",
    "    ax.clear()\n",
    "    G_eps=getGeps(B,val)\n",
    "    matching = nx.bipartite.hopcroft_karp_matching(G_eps, top_nodes=U)\n",
    "    persim.plot_diagrams([X0,Y0],ax=ax, labels = ['$X_0$','$Y_0$'])\n",
    "    for u in X0:\n",
    "        ax.plot((pair[0][0], pair[1][0]),(pair[0][1],pair[1][1]), color='green')\n",
    "\n",
    "    fig.canvas.draw_idle()\n",
    "    \n",
    "seps.on_changed(update)\n",
    "\n",
    "#ax.plot((0.2,0.3),(0.4,0.5))\n",
    "plt.show()"
   ]
  },
  {
   "cell_type": "code",
   "execution_count": 77,
   "metadata": {},
   "outputs": [
    {
     "data": {
      "text/plain": [
       "(0.13271348826382395, 0.13271348826382395)"
      ]
     },
     "execution_count": 77,
     "metadata": {},
     "output_type": "execute_result"
    }
   ],
   "source": [
    "G_eps=getGeps(B,0.5)\n",
    "matching = nx.bipartite.hopcroft_karp_matching(G_eps, top_nodes=U)\n",
    "matchidx\n",
    "\n",
    "#matching.update(dict([reversed(i) for i in matching.items()]))\n",
    "matching[U[0]]"
   ]
  }
 ],
 "metadata": {
  "kernelspec": {
   "display_name": "Python 3",
   "language": "python",
   "name": "python3"
  },
  "language_info": {
   "codemirror_mode": {
    "name": "ipython",
    "version": 3
   },
   "file_extension": ".py",
   "mimetype": "text/x-python",
   "name": "python",
   "nbconvert_exporter": "python",
   "pygments_lexer": "ipython3",
   "version": "3.8.7"
  }
 },
 "nbformat": 4,
 "nbformat_minor": 4
}
