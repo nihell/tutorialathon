{
 "cells": [
  {
   "cell_type": "markdown",
   "metadata": {},
   "source": [
    "# Computing the Bottleneck Distance\n",
    "### by Niklas Hellmer\n",
    "### AATRN Tutorialathon, March 2021"
   ]
  },
  {
   "cell_type": "markdown",
   "metadata": {},
   "source": [
    "One of the main tools to compare persistence diagrams is the bottleneck distance. \n",
    "Recall the definition: given two persistence diagrams $X$, $Y$, their **bottleneck distance** is defined as\n",
    "$$\n",
    "    d_B(X,Y) = \\inf \\limits_{M\\colon X\\to Y} \\sup\\limits_{x\\in X} \\|x-M(x)\\|_\\infty.\n",
    "$$\n",
    "The infimum is taken over all *matchings* $X \\to Y$, i.e. all bijections. Note that points are allowed to be matched to the diagonal.\n",
    "\n",
    "This notebook illustrates how to formulate the computation of the bottleneck distance as a combinatorial optimization problem.\n"
   ]
  },
  {
   "cell_type": "code",
   "execution_count": 1,
   "metadata": {},
   "outputs": [],
   "source": [
    "#imports\n",
    "#plotting\n",
    "%matplotlib widget\n",
    "import matplotlib.pyplot as plt\n",
    "import persim\n",
    "from persim import plot_diagrams\n",
    "from matplotlib.widgets import Slider, RadioButtons\n",
    "\n",
    "#numpy\n",
    "import numpy as np\n",
    "from numpy.random import default_rng #for random persistence diagrams\n",
    "\n",
    "#NetworkX (bipartite) graphs\n",
    "import networkx as nx\n",
    "from networkx.algorithms import bipartite"
   ]
  },
  {
   "cell_type": "markdown",
   "metadata": {},
   "source": [
    "Let us take two small synthetic persistence diagrams for the purpose of illustration."
   ]
  },
  {
   "cell_type": "code",
   "execution_count": 2,
   "metadata": {},
   "outputs": [],
   "source": [
    "#helper method creating a random persistence diagram of card points\n",
    "def randomPD(card):\n",
    "    pd = np.zeros((card,2))\n",
    "    pd[:,0]=rng.random(card)\n",
    "    pd[:,1]=pd[:,0] + rng.random(card)\n",
    "    return pd"
   ]
  },
  {
   "cell_type": "code",
   "execution_count": 3,
   "metadata": {},
   "outputs": [
    {
     "data": {
      "application/vnd.jupyter.widget-view+json": {
       "model_id": "109d084ee6c64ce6a7dd9abd27ba13b8",
       "version_major": 2,
       "version_minor": 0
      },
      "text/plain": [
       "Canvas(toolbar=Toolbar(toolitems=[('Home', 'Reset original view', 'home', 'home'), ('Back', 'Back to previous …"
      ]
     },
     "metadata": {},
     "output_type": "display_data"
    }
   ],
   "source": [
    "#generate two persistence diagrams and plot them\n",
    "rng = default_rng(14)\n",
    "X0 = randomPD(3)\n",
    "Y0 = randomPD(4)\n",
    "\n",
    "f,ax = plt.subplots(1,1, figsize=(8,8))\n",
    "persim.plot_diagrams([X0,Y0],ax=ax, labels = ['$X_0$','$Y_0$'])\n",
    "plt.show()"
   ]
  },
  {
   "cell_type": "markdown",
   "metadata": {},
   "source": [
    "Recall that points are allowed to be matched to the diagonal. Let us set up the following notation.\n",
    "The off diagonal points of $X$ are called $X_0$. Given an off-diagonal point $x=(x_1,x_2)\\in X_0$, denote its **diagonal projection** by $x' = (\\frac{x_1+x_2}{2},\\frac{x_1+x_2}{2})$. Then we let $X_0' = \\{x' \\colon x\\in X_0\\}$. Let $Y_0$ and $Y_0'$ be defined analogously."
   ]
  },
  {
   "cell_type": "code",
   "execution_count": 4,
   "metadata": {},
   "outputs": [],
   "source": [
    "#return the projection to the diagonal of x\n",
    "def DiagProj(x):\n",
    "    return[(x[0]+x[1])/2]*2"
   ]
  },
  {
   "cell_type": "markdown",
   "metadata": {},
   "source": [
    "Now a matching $X \\to Y$ corresponds to a bijection between $U:= X_0 \\cup Y_0'$ and $V:= Y_0' \\cup X_0$.\n",
    "In the plot below, $U$ is drawn in orange and $V$ in blue."
   ]
  },
  {
   "cell_type": "code",
   "execution_count": 6,
   "metadata": {},
   "outputs": [
    {
     "data": {
      "application/vnd.jupyter.widget-view+json": {
       "model_id": "653a23ba8dc04b63ba77d838c105aee3",
       "version_major": 2,
       "version_minor": 0
      },
      "text/plain": [
       "Canvas(toolbar=Toolbar(toolitems=[('Home', 'Reset original view', 'home', 'home'), ('Back', 'Back to previous …"
      ]
     },
     "metadata": {},
     "output_type": "display_data"
    }
   ],
   "source": [
    "#X_0', Y_0' are the diagonal projections\n",
    "Y0prime = np.array([DiagProj(y) for y in Y0])\n",
    "X0prime = np.array([DiagProj(x) for x in X0])\n",
    "\n",
    "#plot them\n",
    "f,ax = plt.subplots(1,1, figsize=(8,8))\n",
    "ax.axline((0,0), slope=1, c='k', ls ='--', zorder=-1)\n",
    "ax.scatter(X0[:,0],X0[:,1], label= \"$X_0$\", color = \"tab:blue\")\n",
    "ax.scatter(Y0[:,0],Y0[:,1], label= \"$Y_0$\", color = \"tab:orange\")\n",
    "ax.scatter(X0prime[:,0],X0prime[:,1], label= \"$X_0'$\", color = \"tab:orange\", marker = \"s\")\n",
    "ax.scatter(Y0prime[:,0],Y0prime[:,1], label= \"$Y_0'$\", color = \"tab:blue\", marker = \"s\")\n",
    "\n",
    "ax.set_ylim((0,1.75))\n",
    "ax.set_xlim((0,1.75))\n",
    "ax.legend(loc = \"lower right\")\n",
    "plt.show()"
   ]
  },
  {
   "cell_type": "markdown",
   "metadata": {},
   "source": [
    "We now form the complete bipartite graph $G= (U\\coprod V, E)$.\n",
    "A *skew edge* is an edge $(x,(M(x))$, for which $x\\in X_0$ and $x'\\neq M(x)\\in X_0'$ or $M(x)\\in Y_0$ and $M(x)'\\neq x\\in Y_0'$.\n",
    "Such a skew edge is alwys longer than the edge between an off-diagonal point and its projection to the diagonal. Hence we can drop them from $E$.\n",
    "\n",
    "We will next look for matchings on bipartite graphs.\n",
    "A set of edges $M\\subset E$ is a **matching** if none of them share a vertex.\n",
    "A **maximum matching** is one with the maximum number of vertices.\n",
    "A **perfect matching** is one covering all vertices."
   ]
  },
  {
   "cell_type": "code",
   "execution_count": 8,
   "metadata": {},
   "outputs": [
    {
     "data": {
      "application/vnd.jupyter.widget-view+json": {
       "model_id": "7c4ef1286bd04c5bb0fa9ff1346561f3",
       "version_major": 2,
       "version_minor": 0
      },
      "text/plain": [
       "Canvas(toolbar=Toolbar(toolitems=[('Home', 'Reset original view', 'home', 'home'), ('Back', 'Back to previous …"
      ]
     },
     "metadata": {},
     "output_type": "display_data"
    }
   ],
   "source": [
    "f,ax = plt.subplots(1,1, figsize=(8,8))\n",
    "ax.axline((0,0), slope=1, c='k', ls ='--', zorder=-1)\n",
    "ax.scatter(X0[:,0],X0[:,1], label= \"$X_0$\", color = \"tab:blue\")\n",
    "ax.scatter(Y0[:,0],Y0[:,1], label= \"$Y_0$\", color = \"tab:orange\")\n",
    "ax.scatter(X0prime[:,0],X0prime[:,1], label= \"$X_0'$\", color = \"tab:orange\", marker = \"s\")\n",
    "ax.scatter(Y0prime[:,0],Y0prime[:,1], label= \"$Y_0'$\", color = \"tab:blue\", marker = \"s\")\n",
    "\n",
    "for x in X0:\n",
    "    for y in Y0:\n",
    "        ax.plot((x[0],y[0]),(x[1],y[1]), color=\"tab:green\", zorder=-1)\n",
    "for x in X0:\n",
    "    ax.plot((x[0],DiagProj(x)[0]),(x[1],DiagProj(x)[1]), color=\"tab:green\", zorder=-1)\n",
    "for y in Y0:\n",
    "    ax.plot((y[0],DiagProj(y)[0]),(y[1],DiagProj(y)[1]), color=\"tab:green\", zorder=-1)\n",
    "\n",
    "ax.set_ylim((0,1.75))\n",
    "ax.set_xlim((0,1.75))\n",
    "ax.legend(loc = \"lower right\")\n",
    "\n",
    "plt.show()"
   ]
  },
  {
   "cell_type": "markdown",
   "metadata": {},
   "source": [
    "We now set up the abstract graph using the cost function $c\\colon U\\times V \\to \\mathbb{R}$,\n",
    "$$\n",
    "c(u,v) = \\begin{cases}\n",
    "    \\|u-v\\|_\\infty & \\text{if }u \\in X_0 \\text{ or } v \\in Y_0,\\\\\n",
    "    0 & \\text{otherwise.}\n",
    "\\end{cases}\n",
    "$$"
   ]
  },
  {
   "cell_type": "code",
   "execution_count": 9,
   "metadata": {},
   "outputs": [],
   "source": [
    "U = np.append(X0,Y0prime, axis=0)\n",
    "V = np.append(Y0,X0prime, axis=0)\n",
    "U = [tuple(u) for u in U]\n",
    "V = [tuple(v) for v in V]\n",
    "\n",
    "B = nx.Graph()\n",
    "B.add_nodes_from(U, bipartite=0)\n",
    "B.add_nodes_from(V, bipartite=1)\n",
    "\n",
    "for u in U:\n",
    "    for v in V:\n",
    "        if u in X0 and v in Y0:\n",
    "            B.add_edge(u,v, weight= max(np.abs(u[0]-v[0]), np.abs(u[1]-v[1])))\n",
    "        elif u in Y0prime and v in X0prime:\n",
    "            B.add_edge(u,v, weight=0)\n",
    "            \n",
    "for u in X0:\n",
    "    B.add_edge(tuple(u),tuple(DiagProj(u)), weight=(u[1]-u[0])/2)\n",
    "for v in Y0:\n",
    "    B.add_edge(tuple(v),tuple(DiagProj(v)), weight=(v[1]-v[0])/2)"
   ]
  },
  {
   "cell_type": "markdown",
   "metadata": {},
   "source": [
    "We define a function to plot our bipartite graphs."
   ]
  },
  {
   "cell_type": "code",
   "execution_count": 10,
   "metadata": {},
   "outputs": [],
   "source": [
    "def plotBipartite(G, ax):\n",
    "    color_map = []\n",
    "    for node in G.nodes:\n",
    "        color_map.append(G.nodes[node]['bipartite'])\n",
    "    \n",
    "    posU = dict()\n",
    "    posV = dict()\n",
    "    pos = dict()\n",
    "    posU.update( (n, (1, i)) for i, n in enumerate(U) ) # put nodes from U at x=1\n",
    "    posV.update( (n, (2, i)) for i, n in enumerate(V) ) # put nodes from V at x=2\n",
    "    pos.update(posU)\n",
    "    pos.update(posV)\n",
    "    labels = dict()\n",
    "    labels.update( (tuple(n), \"$u_{}$\".format(i)) for i,n in enumerate(X0))\n",
    "    labels.update( (tuple(n), \"$v_{}$\".format(i)) for i,n in enumerate(Y0))\n",
    "    labels.update( (tuple(n), \"$u'_{}$\".format(i)) for i,n in enumerate(X0prime))\n",
    "    labels.update( (tuple(n), \"$v'_{}$\".format(i)) for i,n in enumerate(Y0prime))\n",
    "    \n",
    "    nx.draw_networkx_nodes(G, nodelist=[tuple(u) for u in X0], pos = posU, ax = ax, node_shape='o', node_color='tab:blue')\n",
    "    nx.draw_networkx_nodes(G, nodelist=[tuple(v) for v in Y0], pos = posV, ax = ax, node_shape='o', node_color='tab:orange')\n",
    "    nx.draw_networkx_nodes(G, nodelist=[tuple(u) for u in Y0prime], pos=posU, ax = ax, node_shape ='s', node_color='tab:blue')\n",
    "    nx.draw_networkx_nodes(G, nodelist=[tuple(v) for v in X0prime], pos=posV, ax = ax, node_shape ='s', node_color='tab:orange')\n",
    "    \n",
    "    nx.draw_networkx_labels(G, pos, labels=labels, ax=ax)\n",
    "    nx.draw_networkx_edges(G,pos, ax=ax)\n",
    "    "
   ]
  },
  {
   "cell_type": "code",
   "execution_count": 11,
   "metadata": {},
   "outputs": [
    {
     "data": {
      "application/vnd.jupyter.widget-view+json": {
       "model_id": "c203eaf387294c9c9915deaaca85f85f",
       "version_major": 2,
       "version_minor": 0
      },
      "text/plain": [
       "Canvas(toolbar=Toolbar(toolitems=[('Home', 'Reset original view', 'home', 'home'), ('Back', 'Back to previous …"
      ]
     },
     "metadata": {},
     "output_type": "display_data"
    }
   ],
   "source": [
    "f,ax = plt.subplots(1,1,figsize=(8,8))\n",
    "plotBipartite(B, ax)\n",
    "plt.show()"
   ]
  },
  {
   "cell_type": "markdown",
   "metadata": {},
   "source": [
    "Now comes the key insight: For $\\epsilon>0$, let $G_\\epsilon$ be the bipartite graph with the same vertices $U\\coprod V$ but only those edges which cost at most $\\epsilon$. In other words, $G_\\epsilon$ is the subgraph obtained from $G$ by removing edges of cost more than $\\epsilon$.\n",
    "\n",
    "#### Lemma\n",
    "The bottleneck distance is the smallest $\\epsilon\\ge 0$ for which $G_\\epsilon$ has a perfect matching (that is, one covering all vertices)."
   ]
  },
  {
   "cell_type": "code",
   "execution_count": 12,
   "metadata": {},
   "outputs": [],
   "source": [
    "def getGeps(G, eps):\n",
    "    G_eps = nx.Graph(G)\n",
    "    for edge in G.edges:\n",
    "        if G.edges[edge]['weight']>eps:\n",
    "            G_eps.remove_edge(edge[0],edge[1])\n",
    "            \n",
    "    return G_eps"
   ]
  },
  {
   "cell_type": "markdown",
   "metadata": {},
   "source": [
    "Let us investigate how the graph changes when $\\epsilon$ varies."
   ]
  },
  {
   "cell_type": "code",
   "execution_count": 13,
   "metadata": {},
   "outputs": [
    {
     "data": {
      "application/vnd.jupyter.widget-view+json": {
       "model_id": "fec35cf243044364bef8fa5321fe69e0",
       "version_major": 2,
       "version_minor": 0
      },
      "text/plain": [
       "Canvas(toolbar=Toolbar(toolitems=[('Home', 'Reset original view', 'home', 'home'), ('Back', 'Back to previous …"
      ]
     },
     "metadata": {},
     "output_type": "display_data"
    }
   ],
   "source": [
    "\n",
    "fig, ax = plt.subplots(1,1,figsize=(8,8))\n",
    "plt.subplots_adjust(left=0.25, bottom=0.25)\n",
    "axeps = plt.axes([0.25, 0.1, 0.65, 0.03])\n",
    "seps = Slider(axeps, 'eps', 0.0, 1.2, valinit=0, valstep=0.01)\n",
    "\n",
    "def updateGraph(val):\n",
    "    ax.clear()\n",
    "    G_eps=getGeps(B,val)\n",
    "    plotBipartite(G_eps, ax)\n",
    "    fig.canvas.draw_idle()\n",
    "    \n",
    "seps.on_changed(updateGraph)\n",
    "\n",
    "#G_eps = getGeps(B, 0.5)\n",
    "#plotBipartite(G_eps, ax)\n",
    "#G_eps.nodes[U[0]]\n",
    "plt.show()"
   ]
  },
  {
   "cell_type": "code",
   "execution_count": 15,
   "metadata": {},
   "outputs": [
    {
     "data": {
      "application/vnd.jupyter.widget-view+json": {
       "model_id": "cbc4be8b0f134914b9b5bcbf42fa8e07",
       "version_major": 2,
       "version_minor": 0
      },
      "text/plain": [
       "Canvas(toolbar=Toolbar(toolitems=[('Home', 'Reset original view', 'home', 'home'), ('Back', 'Back to previous …"
      ]
     },
     "metadata": {},
     "output_type": "display_data"
    }
   ],
   "source": [
    "f,ax = plt.subplots()\n",
    "plt.subplots_adjust(left=0.25, bottom=0.25)\n",
    "axeps = plt.axes([0.25, 0.1, 0.65, 0.03])\n",
    "seps2 = Slider(axeps, 'eps', 0.0, 1.2, valinit=0, valstep=0.01)\n",
    "\n",
    "def update(val):\n",
    "    ax.clear()\n",
    "    G_eps=getGeps(B,val)\n",
    "    matching = nx.bipartite.hopcroft_karp_matching(G_eps, top_nodes=U)\n",
    "    print(len(matching))\n",
    "    persim.plot_diagrams([X0,Y0],ax=ax, labels = ['$X_0$','$Y_0$'])\n",
    "    for pair in list(matching.items()):\n",
    "        ax.plot((pair[0][0], pair[1][0]),(pair[0][1],pair[1][1]), color='green')\n",
    "\n",
    "    fig.canvas.draw_idle()\n",
    "    \n",
    "seps2.on_changed(update)\n",
    "\n",
    "#ax.plot((0.2,0.3),(0.4,0.5))\n",
    "plt.show()"
   ]
  },
  {
   "cell_type": "markdown",
   "metadata": {},
   "source": [
    "How can we use the above lemma? We sort the edge weights and perform a binary search. In each iteration we compute a maximum matching."
   ]
  },
  {
   "cell_type": "code",
   "execution_count": 16,
   "metadata": {},
   "outputs": [
    {
     "name": "stdout",
     "output_type": "stream",
     "text": [
      "The bottleneck distance is 0.18246632291920095\n"
     ]
    }
   ],
   "source": [
    "# sort edge weights\n",
    "weights = nx.get_edge_attributes(B, \"weight\")\n",
    "sorted_weights = np.sort(np.fromiter(weights.values(),dtype=float))\n",
    "\n",
    "#set up binary search\n",
    "L=0 #index of left endpoint\n",
    "R=len(sorted_weights)-1 #index of right endpoint\n",
    "while L<R:\n",
    "    m = int(np.floor((R+L)/2)) # index of midpoint\n",
    "    #print(L,m,R)             #uncomment to print left and right end as well as the midpoint\n",
    "    G_eps = getGeps(B, sorted_weights[m])  #get the subgraph with epsilon = value at the current midpoint\n",
    "    matching = nx.bipartite.hopcroft_karp_matching(G_eps, top_nodes=U) # compute the matching\n",
    "    if len(matching)<len(G_eps.nodes):  # depending on the size of the matching, shrink the interval.\n",
    "        L=m+1\n",
    "    else:\n",
    "        R=m\n",
    "    \n",
    "print(\"The bottleneck distance is\", sorted_weights[L]) #display the result"
   ]
  },
  {
   "cell_type": "markdown",
   "metadata": {},
   "source": [
    "### Runtime analysis\n",
    "To analyse the runtime complexity, denote the input size by $n=|X|+|Y|$. Note that number of edges is $O(n^2)$.\n",
    "\n",
    "The preprocessing step of sorting the edge weights takes $O(n^2 \\log(n))$.\n",
    "\n",
    "The binary search among the edge weights takes $O(\\log(n))$ iterations. In each of them, a maximum matching is computed using the Hopcroft-Karp algorithm, which takes $O(n^{2.5})$.\n",
    "\n",
    "In conclusion, this implementation takes $O(n^{2.5} \\log(n))$."
   ]
  },
  {
   "cell_type": "markdown",
   "metadata": {},
   "source": [
    "### Improving the runtime\n",
    "The Hopcroft-Karp algorithm can be modified exploiting the geometric nature of the problem.\n",
    "In particular, instead of performing graph searches, one can use nearest-neighbor queries.\n",
    "The best currently known algorithm has complexity $O(n^{1.5}\\log(n))$."
   ]
  },
  {
   "cell_type": "markdown",
   "metadata": {},
   "source": [
    "## References\n",
    "\n",
    "Efrat, A., A. Itai, and M. J. Katz. ‘Geometry Helps in Bottleneck Matching and Related Problems’. Algorithmica 31, no. 1 (September 2001): 1–28. https://doi.org/10.1007/s00453-001-0016-8.\n",
    "\n",
    "<div class=\"csl-bib-body\" style=\"line-height: 1.35; margin-left: 2em; text-indent:-2em;\">\n",
    "  <div class=\"csl-entry\">Kerber, Michael, Dmitriy Morozov, and Arnur Nigmetov. ‘Geometry Helps to Compare Persistence Diagrams’. <i>ACM Journal of Experimental Algorithmics</i> 22 (15 December 2017): 1–20. <a href=\"https://doi.org/10.1145/3064175\">https://doi.org/10.1145/3064175</a>.</div>\n",
    "  <span class=\"Z3988\" title=\"url_ver=Z39.88-2004&amp;ctx_ver=Z39.88-2004&amp;rfr_id=info%3Asid%2Fzotero.org%3A2&amp;rft_id=info%3Adoi%2F10.1145%2F3064175&amp;rft_val_fmt=info%3Aofi%2Ffmt%3Akev%3Amtx%3Ajournal&amp;rft.genre=article&amp;rft.atitle=Geometry%20Helps%20to%20Compare%20Persistence%20Diagrams&amp;rft.jtitle=ACM%20Journal%20of%20Experimental%20Algorithmics&amp;rft.stitle=ACM%20J.%20Exp.%20Algorithmics&amp;rft.volume=22&amp;rft.aufirst=Michael&amp;rft.aulast=Kerber&amp;rft.au=Michael%20Kerber&amp;rft.au=Dmitriy%20Morozov&amp;rft.au=Arnur%20Nigmetov&amp;rft.date=2017-12-15&amp;rft.pages=1-20&amp;rft.spage=1&amp;rft.epage=20&amp;rft.issn=1084-6654%2C%201084-6654&amp;rft.language=en\"></span>\n",
    "</div>\n",
    "\n",
    "\n",
    "Edelsbrunner, Herbert, and J. Harer. Computational Topology: An Introduction, Chapter VIII.4. Providence, R.I: American Mathematical Society, 2010.\n",
    "\n",
    "\n"
   ]
  }
 ],
 "metadata": {
  "kernelspec": {
   "display_name": "Python 3",
   "language": "python",
   "name": "python3"
  },
  "language_info": {
   "codemirror_mode": {
    "name": "ipython",
    "version": 3
   },
   "file_extension": ".py",
   "mimetype": "text/x-python",
   "name": "python",
   "nbconvert_exporter": "python",
   "pygments_lexer": "ipython3",
   "version": "3.9.2"
  }
 },
 "nbformat": 4,
 "nbformat_minor": 4
}
